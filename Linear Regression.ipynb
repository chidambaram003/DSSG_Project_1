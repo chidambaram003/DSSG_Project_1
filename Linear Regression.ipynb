{
  "cells": [
    {
      "cell_type": "code",
      "source": [
        "import numpy as np\n",
        "import pandas as pd\n",
        "import matplotlib.pyplot as plt\n",
        "from google.colab import drive\n",
        "drive.mount('/content/drive', force_remount = True)\n"
      ],
      "metadata": {
        "id": "zP_zrbsck2VM",
        "colab": {
          "base_uri": "https://localhost:8080/"
        },
        "outputId": "9157132e-05b8-4947-af1c-a658561d47ee"
      },
      "execution_count": 69,
      "outputs": [
        {
          "output_type": "stream",
          "name": "stdout",
          "text": [
            "Mounted at /content/drive\n"
          ]
        }
      ]
    },
    {
      "cell_type": "code",
      "source": [
        "#reading the given data set\n",
        "path = 'drive/My Drive/sem6/ml hackathon/3.xls'\n",
        "import pandas as pd\n",
        "from sklearn.linear_model import LinearRegression\n",
        "from sklearn.model_selection import train_test_split\n",
        "from sklearn.metrics import mean_squared_error\n",
        "import matplotlib.pyplot as plt\n",
        "import seaborn as sns\n",
        "\n",
        "df = pd.read_excel(path)\n"
      ],
      "metadata": {
        "id": "duYE_4C0lDfp"
      },
      "execution_count": 70,
      "outputs": []
    },
    {
      "cell_type": "code",
      "source": [
        "#eda\n",
        "print(df.head(5))"
      ],
      "metadata": {
        "colab": {
          "base_uri": "https://localhost:8080/"
        },
        "id": "bLgdwWUe9B0u",
        "outputId": "a5a6cfa1-b66c-4f8d-f21e-50530dcbb686"
      },
      "execution_count": 71,
      "outputs": [
        {
          "output_type": "stream",
          "name": "stdout",
          "text": [
            "                                 Item    2001-02    2002-03    2003-04  \\\n",
            "0       Imports (Foreign merchandise)  2451997.2  2972058.7  3591076.6   \n",
            "1        Exports (Indian merchandise)  2090179.7  2551372.8  2933667.6   \n",
            "2  Re-Exports (Foreign merchandise(1)        NaN        NaN        NaN   \n",
            "3                       Total exports  2090179.7  2551372.8  2933667.6   \n",
            "4                    Balance of trade  -361817.5  -420685.9  -657409.0   \n",
            "\n",
            "     2004-05    2005-06    2006-07     2007-08     2008-09     2009-10  \\\n",
            "0  5010645.4  6604089.0  8405063.0  10123117.0  13744356.0  13637356.0   \n",
            "1  3753395.3  4564178.0  5717792.0   6558635.0   8407551.0   8455336.0   \n",
            "2        NaN        NaN        NaN         NaN         NaN         NaN   \n",
            "3  3753395.3  4564178.0  5717792.0   6558635.0   8407551.0   8455336.0   \n",
            "4 -1257250.1 -2039911.0 -2687270.0  -3564482.0  -5336805.0  -5182020.0   \n",
            "\n",
            "      2010-11     2011-12  \n",
            "0  16834670.0  23454632.0  \n",
            "1  11429219.0  14659594.0  \n",
            "2         NaN         NaN  \n",
            "3  11429219.0  14659594.0  \n",
            "4  -5405451.0  -8795038.0  \n"
          ]
        }
      ]
    },
    {
      "cell_type": "code",
      "source": [
        "print(df.tail(5))"
      ],
      "metadata": {
        "colab": {
          "base_uri": "https://localhost:8080/"
        },
        "id": "Us5Z2FDM9Y-q",
        "outputId": "d995fd59-3a77-491a-9dd4-2f84ea80baf8"
      },
      "execution_count": 72,
      "outputs": [
        {
          "output_type": "stream",
          "name": "stdout",
          "text": [
            "                       Item   2001-02   2002-03   2003-04    2004-05  \\\n",
            "5                  Treasure      28.0      61.7     173.7      168.1   \n",
            "6                   Imports      34.9      37.5     230.6       31.1   \n",
            "7                     Total      62.9      99.2     404.3      199.2   \n",
            "8       Balance of trade(1)     -28.0     -61.7    -173.7     -168.1   \n",
            "9  Visible balance of trade -361845.5 -420747.6 -657582.7 -1257418.2   \n",
            "\n",
            "     2005-06    2006-07    2007-08    2008-09  2009-10  2010-11  2011-12  \n",
            "5      104.0       61.0      326.0       25.0      NaN      NaN      NaN  \n",
            "6       32.0       41.0       15.0        1.0      NaN      NaN      NaN  \n",
            "7      136.0      102.0      341.0       26.0      NaN      NaN      NaN  \n",
            "8     -104.0      -61.0     -326.0      -25.0      NaN      NaN      NaN  \n",
            "9 -2040015.0 -2687331.0 -3564808.0 -5336805.0      NaN      NaN      NaN  \n"
          ]
        }
      ]
    },
    {
      "cell_type": "code",
      "source": [
        "print(df.shape)"
      ],
      "metadata": {
        "colab": {
          "base_uri": "https://localhost:8080/"
        },
        "id": "P0AO-RBn9a51",
        "outputId": "b7edd094-03c1-4e9d-f5ab-649172127d59"
      },
      "execution_count": 73,
      "outputs": [
        {
          "output_type": "stream",
          "name": "stdout",
          "text": [
            "(10, 12)\n"
          ]
        }
      ]
    },
    {
      "cell_type": "code",
      "source": [
        "print(df.describe())"
      ],
      "metadata": {
        "colab": {
          "base_uri": "https://localhost:8080/"
        },
        "id": "skRku9v29wHT",
        "outputId": "448af607-5fa8-4ac1-c791-ee40a284f8b7"
      },
      "execution_count": 74,
      "outputs": [
        {
          "output_type": "stream",
          "name": "stdout",
          "text": [
            "            2001-02       2002-03       2003-04       2004-05       2005-06  \\\n",
            "count  9.000000e+00  9.000000e+00  9.000000e+00  9.000000e+00  9.000000e+00   \n",
            "mean   6.565324e+05  8.037231e+05  9.048950e+05  1.111444e+06  1.294743e+06   \n",
            "std    1.179646e+06  1.431451e+06  1.717692e+06  2.380297e+06  3.132752e+06   \n",
            "min   -3.618455e+05 -4.207476e+05 -6.575827e+05 -1.257418e+06 -2.040015e+06   \n",
            "25%   -2.800000e+01 -6.170000e+01 -1.737000e+02 -1.681000e+02 -1.040000e+02   \n",
            "50%    3.490000e+01  6.170000e+01  2.306000e+02  1.681000e+02  1.040000e+02   \n",
            "75%    2.090180e+06  2.551373e+06  2.933668e+06  3.753395e+06  4.564178e+06   \n",
            "max    2.451997e+06  2.972059e+06  3.591077e+06  5.010645e+06  6.604089e+06   \n",
            "\n",
            "            2006-07       2007-08       2008-09       2009-10       2010-11  \\\n",
            "count  9.000000e+00  9.000000e+00  9.000000e+00  4.000000e+00  4.000000e+00   \n",
            "mean   1.607354e+06  1.790161e+06  2.209542e+06  6.341502e+06  8.571914e+06   \n",
            "std    3.987829e+06  4.809888e+06  6.550815e+06  8.061382e+06  9.660370e+06   \n",
            "min   -2.687331e+06 -3.564808e+06 -5.336805e+06 -5.182020e+06 -5.405451e+06   \n",
            "25%   -6.100000e+01 -3.260000e+02 -2.500000e+01  5.045997e+06  7.220552e+06   \n",
            "50%    6.100000e+01  3.260000e+02  2.500000e+01  8.455336e+06  1.142922e+07   \n",
            "75%    5.717792e+06  6.558635e+06  8.407551e+06  9.750841e+06  1.278058e+07   \n",
            "max    8.405063e+06  1.012312e+07  1.374436e+07  1.363736e+07  1.683467e+07   \n",
            "\n",
            "            2011-12  \n",
            "count  4.000000e+00  \n",
            "mean   1.099470e+07  \n",
            "std    1.382927e+07  \n",
            "min   -8.795038e+06  \n",
            "25%    8.795936e+06  \n",
            "50%    1.465959e+07  \n",
            "75%    1.685835e+07  \n",
            "max    2.345463e+07  \n"
          ]
        }
      ]
    },
    {
      "cell_type": "code",
      "source": [
        "print(df.info())"
      ],
      "metadata": {
        "colab": {
          "base_uri": "https://localhost:8080/"
        },
        "id": "FkAbu3j195ra",
        "outputId": "a6acb813-d918-4ceb-c705-77e9b9d705ae"
      },
      "execution_count": 75,
      "outputs": [
        {
          "output_type": "stream",
          "name": "stdout",
          "text": [
            "<class 'pandas.core.frame.DataFrame'>\n",
            "RangeIndex: 10 entries, 0 to 9\n",
            "Data columns (total 12 columns):\n",
            " #   Column    Non-Null Count  Dtype  \n",
            "---  ------    --------------  -----  \n",
            " 0   Item      10 non-null     object \n",
            " 1    2001-02  9 non-null      float64\n",
            " 2    2002-03  9 non-null      float64\n",
            " 3    2003-04  9 non-null      float64\n",
            " 4    2004-05  9 non-null      float64\n",
            " 5    2005-06  9 non-null      float64\n",
            " 6   2006-07   9 non-null      float64\n",
            " 7   2007-08   9 non-null      float64\n",
            " 8   2008-09   9 non-null      float64\n",
            " 9   2009-10   4 non-null      float64\n",
            " 10  2010-11   4 non-null      float64\n",
            " 11  2011-12   4 non-null      float64\n",
            "dtypes: float64(11), object(1)\n",
            "memory usage: 1.1+ KB\n",
            "None\n"
          ]
        }
      ]
    },
    {
      "cell_type": "code",
      "source": [
        "a=np.mean(df)\n",
        "print(a)"
      ],
      "metadata": {
        "colab": {
          "base_uri": "https://localhost:8080/"
        },
        "id": "FuMOWf8S_QFn",
        "outputId": "593ce4a8-6650-4bf6-a11f-6344232c4867"
      },
      "execution_count": 76,
      "outputs": [
        {
          "output_type": "stream",
          "name": "stdout",
          "text": [
            " 2001-02    6.565324e+05\n",
            " 2002-03    8.037231e+05\n",
            " 2003-04    9.048950e+05\n",
            " 2004-05    1.111444e+06\n",
            " 2005-06    1.294743e+06\n",
            "2006-07     1.607354e+06\n",
            "2007-08     1.790161e+06\n",
            "2008-09     2.209542e+06\n",
            "2009-10     6.341502e+06\n",
            "2010-11     8.571914e+06\n",
            "2011-12     1.099470e+07\n",
            "dtype: float64\n"
          ]
        },
        {
          "output_type": "stream",
          "name": "stderr",
          "text": [
            "/usr/local/lib/python3.8/dist-packages/numpy/core/fromnumeric.py:3472: FutureWarning: Dropping of nuisance columns in DataFrame reductions (with 'numeric_only=None') is deprecated; in a future version this will raise TypeError.  Select only valid columns before calling the reduction.\n",
            "  return mean(axis=axis, dtype=dtype, out=out, **kwargs)\n"
          ]
        }
      ]
    },
    {
      "cell_type": "code",
      "source": [
        "b=np.median(df.iloc[:,1:])\n",
        "print(b)"
      ],
      "metadata": {
        "colab": {
          "base_uri": "https://localhost:8080/"
        },
        "id": "6PEIaPbR_XR0",
        "outputId": "65dbfac5-12fa-4216-d384-b468596bce8d"
      },
      "execution_count": 77,
      "outputs": [
        {
          "output_type": "stream",
          "name": "stdout",
          "text": [
            "nan\n"
          ]
        }
      ]
    },
    {
      "cell_type": "code",
      "source": [
        "from scipy import stats\n",
        "mode = stats.mode(df)\n",
        "\n",
        "print(mode)\n",
        "\n"
      ],
      "metadata": {
        "colab": {
          "base_uri": "https://localhost:8080/"
        },
        "id": "exP_ksk7__UY",
        "outputId": "41c4e439-da55-42fd-d428-b9bddeb87659"
      },
      "execution_count": 78,
      "outputs": [
        {
          "output_type": "stream",
          "name": "stdout",
          "text": [
            "ModeResult(mode=array([['Imports (Foreign merchandise)', 2090179.7, 2551372.8, 2933667.6,\n",
            "        3753395.3, 4564178.0, 5717792.0, 6558635.0, 8407551.0, 8455336.0,\n",
            "        11429219.0, 14659594.0]], dtype=object), count=array([[1, 2, 2, 2, 2, 2, 2, 2, 2, 2, 2, 2]]))\n"
          ]
        },
        {
          "output_type": "stream",
          "name": "stderr",
          "text": [
            "<ipython-input-78-0a9be14e1196>:2: FutureWarning: Unlike other reduction functions (e.g. `skew`, `kurtosis`), the default behavior of `mode` typically preserves the axis it acts along. In SciPy 1.11.0, this behavior will change: the default value of `keepdims` will become False, the `axis` over which the statistic is taken will be eliminated, and the value None will no longer be accepted. Set `keepdims` to True or False to avoid this warning.\n",
            "  mode = stats.mode(df)\n",
            "<ipython-input-78-0a9be14e1196>:2: DeprecationWarning: Support for non-numeric arrays has been deprecated as of SciPy 1.9.0 and will be removed in 1.11.0. `pandas.DataFrame.mode` can be used instead, see https://pandas.pydata.org/docs/reference/api/pandas.DataFrame.mode.html.\n",
            "  mode = stats.mode(df)\n"
          ]
        }
      ]
    },
    {
      "cell_type": "markdown",
      "source": [
        "Data pre processing"
      ],
      "metadata": {
        "id": "d4NuNHaz-C6b"
      }
    },
    {
      "cell_type": "code",
      "source": [
        "df=df.fillna(0)"
      ],
      "metadata": {
        "id": "w7XYdT2bwydc"
      },
      "execution_count": 79,
      "outputs": []
    },
    {
      "cell_type": "code",
      "source": [
        "#droping the rows with more than 50% of nan values\n",
        "threshold = 0.5\n",
        "# Drop columns with more than 50% NaN values\n",
        "df = df.dropna(thresh=int(threshold * len(df)), axis=1)\n",
        "# Drop rows with more than 50% NaN values\n",
        "df = df.dropna(thresh=int(threshold * len(df.columns)), axis=0)\n",
        "print(df)"
      ],
      "metadata": {
        "colab": {
          "base_uri": "https://localhost:8080/"
        },
        "id": "49yCCc3awoy4",
        "outputId": "8c903f7f-7ba2-4de0-fdc1-6b49a3fee549"
      },
      "execution_count": 80,
      "outputs": [
        {
          "output_type": "stream",
          "name": "stdout",
          "text": [
            "                                 Item    2001-02    2002-03    2003-04  \\\n",
            "0       Imports (Foreign merchandise)  2451997.2  2972058.7  3591076.6   \n",
            "1        Exports (Indian merchandise)  2090179.7  2551372.8  2933667.6   \n",
            "2  Re-Exports (Foreign merchandise(1)        0.0        0.0        0.0   \n",
            "3                       Total exports  2090179.7  2551372.8  2933667.6   \n",
            "4                    Balance of trade  -361817.5  -420685.9  -657409.0   \n",
            "5                            Treasure       28.0       61.7      173.7   \n",
            "6                             Imports       34.9       37.5      230.6   \n",
            "7                               Total       62.9       99.2      404.3   \n",
            "8                 Balance of trade(1)      -28.0      -61.7     -173.7   \n",
            "9            Visible balance of trade  -361845.5  -420747.6  -657582.7   \n",
            "\n",
            "     2004-05    2005-06    2006-07     2007-08     2008-09     2009-10  \\\n",
            "0  5010645.4  6604089.0  8405063.0  10123117.0  13744356.0  13637356.0   \n",
            "1  3753395.3  4564178.0  5717792.0   6558635.0   8407551.0   8455336.0   \n",
            "2        0.0        0.0        0.0         0.0         0.0         0.0   \n",
            "3  3753395.3  4564178.0  5717792.0   6558635.0   8407551.0   8455336.0   \n",
            "4 -1257250.1 -2039911.0 -2687270.0  -3564482.0  -5336805.0  -5182020.0   \n",
            "5      168.1      104.0       61.0       326.0        25.0         0.0   \n",
            "6       31.1       32.0       41.0        15.0         1.0         0.0   \n",
            "7      199.2      136.0      102.0       341.0        26.0         0.0   \n",
            "8     -168.1     -104.0      -61.0      -326.0       -25.0         0.0   \n",
            "9 -1257418.2 -2040015.0 -2687331.0  -3564808.0  -5336805.0         0.0   \n",
            "\n",
            "      2010-11     2011-12  \n",
            "0  16834670.0  23454632.0  \n",
            "1  11429219.0  14659594.0  \n",
            "2         0.0         0.0  \n",
            "3  11429219.0  14659594.0  \n",
            "4  -5405451.0  -8795038.0  \n",
            "5         0.0         0.0  \n",
            "6         0.0         0.0  \n",
            "7         0.0         0.0  \n",
            "8         0.0         0.0  \n",
            "9         0.0         0.0  \n"
          ]
        }
      ]
    },
    {
      "cell_type": "code",
      "source": [
        "# Define the lower and upper bounds for the IQR method\n",
        "Q1 = df.quantile(0.25)\n",
        "Q3 = df.quantile(0.75)\n",
        "IQR = Q3 - Q1\n",
        "lower_bound = Q1 - 1.5 * IQR\n",
        "upper_bound = Q3 + 1.5 * IQR\n",
        "\n",
        "# Identify the outliers\n",
        "outliers = ((df < lower_bound) | (df > upper_bound)).any(axis=1)\n",
        "\n",
        "# Remove the outliers\n",
        "df = df[~outliers]\n"
      ],
      "metadata": {
        "colab": {
          "base_uri": "https://localhost:8080/"
        },
        "id": "DNrDGM8_yy3_",
        "outputId": "46edc6c6-f689-41dd-dd99-ff0309eecbc0"
      },
      "execution_count": 81,
      "outputs": [
        {
          "output_type": "stream",
          "name": "stderr",
          "text": [
            "<ipython-input-81-044fdbcab26c>:9: FutureWarning: Automatic reindexing on DataFrame vs Series comparisons is deprecated and will raise ValueError in a future version.  Do `left, right = left.align(right, axis=1, copy=False)` before e.g. `left == right`\n",
            "  outliers = ((df < lower_bound) | (df > upper_bound)).any(axis=1)\n"
          ]
        }
      ]
    },
    {
      "cell_type": "markdown",
      "source": [
        "ANALYZING THE PERFORMANCE OF THE MODEL"
      ],
      "metadata": {
        "id": "vSaEfBYN-OuS"
      }
    },
    {
      "cell_type": "code",
      "source": [
        "# Split the data into training and test sets\n",
        "X = df.iloc[:,1:]\n",
        "y = df.iloc[:,1:]\n",
        "X_train, X_test, y_train, y_test = train_test_split(X, y, test_size=0.2, random_state=42)\n",
        "\n",
        "# Train a linear regression model on the training set\n",
        "model = LinearRegression()\n",
        "model.fit(X_train, y_train)\n",
        "\n",
        "# Evaluate the performance of the model on the test set\n",
        "y_pred = model.predict(X_test)\n",
        "mse = mean_squared_error(y_test, y_pred)\n",
        "rmse = mse**0.5\n",
        "print('Root Mean Squared Error:', rmse)\n"
      ],
      "metadata": {
        "colab": {
          "base_uri": "https://localhost:8080/"
        },
        "id": "Afvo1pFs2vDK",
        "outputId": "b50c8a11-9cd7-4b8e-914e-726c83169bf3"
      },
      "execution_count": 82,
      "outputs": [
        {
          "output_type": "stream",
          "name": "stdout",
          "text": [
            "Root Mean Squared Error: 4.500455252770428e-09\n"
          ]
        }
      ]
    },
    {
      "cell_type": "code",
      "source": [
        "from sklearn.datasets import make_regression\n",
        "from sklearn.multioutput import MultiOutputRegressor\n",
        "from sklearn.ensemble import RandomForestRegressor\n",
        "from sklearn.model_selection import train_test_split\n",
        "\n",
        "X = df.iloc[:,1:]\n",
        "y = df.iloc[:,1:]\n",
        "# Create a random multi-output regression dataset\n",
        "X, y = make_regression(n_samples=100, n_features=10, n_targets=3)\n",
        "\n",
        "# Split the dataset into training and testing sets\n",
        "X_train, X_test, y_train, y_test = train_test_split(X, y, test_size=0.2, random_state=42)\n",
        "\n",
        "# Create a multi-output regression model using RandomForestRegressor\n",
        "model = MultiOutputRegressor(RandomForestRegressor(random_state=42))\n",
        "\n",
        "# Train the model\n",
        "model.fit(X_train, y_train)\n",
        "\n",
        "# Evaluate the model on the test set\n",
        "score = model.score(X_test, y_test)\n",
        "print(f\"R-sqared score: {score:.2f}\")\n",
        "\n"
      ],
      "metadata": {
        "colab": {
          "base_uri": "https://localhost:8080/"
        },
        "id": "5r0VkVi_ssd_",
        "outputId": "47a2cd06-8217-4ac6-833e-6c18f32b671e"
      },
      "execution_count": 83,
      "outputs": [
        {
          "output_type": "stream",
          "name": "stdout",
          "text": [
            "R-sqared score: 0.60\n"
          ]
        }
      ]
    },
    {
      "cell_type": "code",
      "source": [
        "from sklearn.metrics import mean_squared_error\n",
        "# Calculate MSE\n",
        "y_pred = model.predict(X_test)\n",
        "mse = mean_squared_error(y_test, y_pred)\n",
        "print(f\"MSE: {mse:.2f}\")"
      ],
      "metadata": {
        "colab": {
          "base_uri": "https://localhost:8080/"
        },
        "id": "ReX_Zah2yMbR",
        "outputId": "8b3fef1f-6e7c-4322-f333-6c709cb245af"
      },
      "execution_count": 84,
      "outputs": [
        {
          "output_type": "stream",
          "name": "stdout",
          "text": [
            "MSE: 9283.50\n"
          ]
        }
      ]
    },
    {
      "cell_type": "markdown",
      "source": [
        "DATA VISUVALIZATION"
      ],
      "metadata": {
        "id": "bmbaxdTn-kp5"
      }
    },
    {
      "cell_type": "code",
      "source": [
        "#scatetr plot\n",
        "plt.scatter(df.iloc[:,1], df.iloc[:,2])\n",
        "plt.xlabel('2001-02')\n",
        "plt.ylabel('2002-03')\n",
        "plt.title('Scatter Plot')\n",
        "plt.show()\n"
      ],
      "metadata": {
        "colab": {
          "base_uri": "https://localhost:8080/",
          "height": 295
        },
        "id": "P8s7E3z3-b_B",
        "outputId": "8442eac7-3b00-4600-f0e9-fe67f24dd905"
      },
      "execution_count": 85,
      "outputs": [
        {
          "output_type": "display_data",
          "data": {
            "text/plain": [
              "<Figure size 432x288 with 1 Axes>"
            ],
            "image/png": "[encoded data removed]"
          },
          "metadata": {
            "needs_background": "light"
          }
        }
      ]
    },
    {
      "cell_type": "code",
      "source": [
        "#Histogram\n",
        "plt.hist(df.iloc[:,3], bins=3)\n",
        "plt.xlabel('2003-04')\n",
        "plt.ylabel('Frequency')\n",
        "plt.title('Histogram')\n",
        "plt.show()"
      ],
      "metadata": {
        "colab": {
          "base_uri": "https://localhost:8080/",
          "height": 295
        },
        "id": "7cJgidzBEkbV",
        "outputId": "f5bef8f4-7fd1-415b-8092-2ec12de6405a"
      },
      "execution_count": 86,
      "outputs": [
        {
          "output_type": "display_data",
          "data": {
            "text/plain": [
              "<Figure size 432x288 with 1 Axes>"
            ],
            "image/png": "[encoded data removed]"
          },
          "metadata": {
            "needs_background": "light"
          }
        }
      ]
    },
    {
      "cell_type": "code",
      "source": [
        "#box plot\n",
        "sns.boxplot(x=df.iloc[:,4], y=df.iloc[:,5], data=df)\n",
        "plt.title('Box Plot')\n",
        "plt.show()"
      ],
      "metadata": {
        "colab": {
          "base_uri": "https://localhost:8080/",
          "height": 295
        },
        "id": "qj4Ae6-OE_wt",
        "outputId": "629fd953-6b00-483d-b961-34b8fb90b79a"
      },
      "execution_count": 87,
      "outputs": [
        {
          "output_type": "display_data",
          "data": {
            "text/plain": [
              "<Figure size 432x288 with 1 Axes>"
            ],
            "image/png": "[encoded data removed]"
          },
          "metadata": {
            "needs_background": "light"
          }
        }
      ]
    },
    {
      "cell_type": "code",
      "source": [
        "#Heatmap\n",
        "sns.heatmap(df.corr(), cmap='coolwarm', annot=True)\n",
        "plt.title('Heatmap')\n",
        "plt.show()"
      ],
      "metadata": {
        "colab": {
          "base_uri": "https://localhost:8080/",
          "height": 316
        },
        "id": "DBe8164GFPGY",
        "outputId": "39b99ba6-6532-4f59-e9f2-c94637425983"
      },
      "execution_count": 88,
      "outputs": [
        {
          "output_type": "display_data",
          "data": {
            "text/plain": [
              "<Figure size 432x288 with 2 Axes>"
            ],
            "image/png": "[encoded data removed]"
          },
          "metadata": {
            "needs_background": "light"
          }
        }
      ]
    },
    {
      "cell_type": "code",
      "source": [
        "# Bar chart\n",
        "df.iloc[:,4].value_counts().plot(kind='bar')\n",
        "plt.xlabel('2004-04')\n",
        "plt.ylabel('Count')\n",
        "plt.title('Bar Chart')\n",
        "plt.show()"
      ],
      "metadata": {
        "colab": {
          "base_uri": "https://localhost:8080/",
          "height": 400
        },
        "id": "rNhEjuSuFgw2",
        "outputId": "111467e8-44ba-4371-b24b-8bdf84d2ff4b"
      },
      "execution_count": 89,
      "outputs": [
        {
          "output_type": "display_data",
          "data": {
            "text/plain": [
              "<Figure size 432x288 with 1 Axes>"
            ],
            "image/png": "[encoded data removed]"
          },
          "metadata": {
            "needs_background": "light"
          }
        }
      ]
    }
  ],
  "metadata": {
    "colab": {
      "provenance": []
    },
    "kernelspec": {
      "display_name": "Python 3",
      "name": "python3"
    }
  },
  "nbformat": 4,
  "nbformat_minor": 0
}